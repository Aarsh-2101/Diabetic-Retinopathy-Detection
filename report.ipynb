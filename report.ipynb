{
 "cells": [
  {
   "cell_type": "code",
   "execution_count": 92,
   "metadata": {},
   "outputs": [
    {
     "name": "stdout",
     "output_type": "stream",
     "text": [
      "PDF generated and saved at example_from_html.pdf\n"
     ]
    }
   ],
   "source": [
    "with open('report.html', 'r') as file:\n",
    "    html = file.read()\n",
    "\n",
    "import pdfkit\n",
    "\n",
    "def convert_html_to_pdf(html_content, pdf_path):\n",
    "    try:\n",
    "        pdfkit.from_string(html_content, pdf_path)\n",
    "        print(f\"PDF generated and saved at {pdf_path}\")\n",
    "    except Exception as e:\n",
    "        print(f\"PDF generation failed: {e}\")\n",
    "\n",
    "\n",
    "# PDF path to save\n",
    "pdf_path = 'example_from_html.pdf'\n",
    "\n",
    "# Generate PDF\n",
    "convert_html_to_pdf(html, pdf_path)"
   ]
  },
  {
   "cell_type": "code",
   "execution_count": 47,
   "metadata": {},
   "outputs": [
    {
     "data": {
      "text/plain": [
       "0"
      ]
     },
     "execution_count": 47,
     "metadata": {},
     "output_type": "execute_result"
    }
   ],
   "source": [
    "from xhtml2pdf import pisa        \n",
    "\n",
    "output_filename = \"report.pdf\"\n",
    "\n",
    "def convert_html_to_pdf(source_html, output_filename):\n",
    "    result_file = open(output_filename, \"w+b\")\n",
    "\n",
    "    pisa_status = pisa.CreatePDF(\n",
    "            source_html,             \n",
    "            dest=result_file)       \n",
    "\n",
    "    result_file.close()                 \n",
    "\n",
    "    return pisa_status.err\n",
    "\n",
    "\n",
    "pisa.showLogging()\n",
    "convert_html_to_pdf(html, output_filename)"
   ]
  }
 ],
 "metadata": {
  "kernelspec": {
   "display_name": ".venv",
   "language": "python",
   "name": "python3"
  },
  "language_info": {
   "codemirror_mode": {
    "name": "ipython",
    "version": 3
   },
   "file_extension": ".py",
   "mimetype": "text/x-python",
   "name": "python",
   "nbconvert_exporter": "python",
   "pygments_lexer": "ipython3",
   "version": "3.9.6"
  }
 },
 "nbformat": 4,
 "nbformat_minor": 2
}
