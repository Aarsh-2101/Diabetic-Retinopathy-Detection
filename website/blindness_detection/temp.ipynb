{
 "cells": [
  {
   "cell_type": "code",
   "execution_count": 1,
   "metadata": {},
   "outputs": [
    {
     "name": "stdout",
     "output_type": "stream",
     "text": [
      "None\n"
     ]
    }
   ],
   "source": [
    "from report import generate_report\n",
    "import os, json, base64\n",
    "\n",
    "def image_file_path_to_base64_string(filepath: str) -> str:\n",
    "  '''\n",
    "  Takes a filepath and converts the image saved there to its base64 encoding,\n",
    "  then decodes that into a string.\n",
    "  '''\n",
    "  with open(filepath, 'rb') as f:\n",
    "    return base64.b64encode(f.read()).decode()\n",
    "img_string = image_file_path_to_base64_string('0ceb222f6629_9CoE7Vt.png')\n",
    "report = generate_report(1, img_string, img_string)\n",
    "\n",
    "with open('test.pdf', 'wb') as f:\n",
    "    f.write(report)"
   ]
  },
  {
   "cell_type": "code",
   "execution_count": 2,
   "metadata": {},
   "outputs": [],
   "source": []
  }
 ],
 "metadata": {
  "kernelspec": {
   "display_name": ".venv",
   "language": "python",
   "name": "python3"
  },
  "language_info": {
   "codemirror_mode": {
    "name": "ipython",
    "version": 3
   },
   "file_extension": ".py",
   "mimetype": "text/x-python",
   "name": "python",
   "nbconvert_exporter": "python",
   "pygments_lexer": "ipython3",
   "version": "3.9.6"
  }
 },
 "nbformat": 4,
 "nbformat_minor": 2
}
